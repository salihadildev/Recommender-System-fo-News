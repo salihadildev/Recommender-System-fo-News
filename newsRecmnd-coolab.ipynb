{
 "cells": [
  {
   "cell_type": "markdown",
   "metadata": {},
   "source": [
    "# Recommender System fo News"
   ]
  },
  {
   "cell_type": "markdown",
   "metadata": {},
   "source": [
    "<img src=\"https://mediaengagement.org/wp-content/uploads/2016/06/shutterstock_297892517-600x374.jpg\" alt=\"Economic News\">"
   ]
  },
  {
   "cell_type": "markdown",
   "metadata": {},
   "source": [
    "<a href=\"https://statso.io/news-recommendation-case-study/\" target=\"_blank\">Data burada</a>"
   ]
  },
  {
   "cell_type": "markdown",
   "metadata": {},
   "source": [
    "* Bu projede amacımız okuyucunun okuduğu makalenin içeriğine göre bir tavsiye sistemi geliştirmektir.\n",
    "Tüm popüler haber siteleri, okuduğunuz haberler ile kendi sitelerindeki diğer haber yazıları arasındaki benzerlikleri bulmak ve en benzer haber makalelerini önermek için tasarlanmış içerik tabanlı öneri sistemlerini kullanır. "
   ]
  },
  {
   "cell_type": "code",
   "execution_count": 1,
   "metadata": {
    "colab": {
     "base_uri": "https://localhost:8080/"
    },
    "id": "q8MumsH8lMtz",
    "outputId": "452edd6e-4481-4064-fceb-0aca528c187f"
   },
   "outputs": [],
   "source": [
    "#!pip install neattext"
   ]
  },
  {
   "cell_type": "code",
   "execution_count": 2,
   "metadata": {
    "id": "cXTjs4dMjpmY"
   },
   "outputs": [],
   "source": [
    "import pandas as pd"
   ]
  },
  {
   "cell_type": "code",
   "execution_count": 3,
   "metadata": {
    "id": "HOHJ0B0llEns"
   },
   "outputs": [],
   "source": [
    "import neattext.functions as nfx\n",
    "import gc"
   ]
  },
  {
   "cell_type": "code",
   "execution_count": 4,
   "metadata": {
    "id": "y5_G4VWpkQqV"
   },
   "outputs": [],
   "source": [
    "from sklearn.feature_extraction.text import TfidfVectorizer\n",
    "from sklearn.metrics.pairwise import cosine_similarity"
   ]
  },
  {
   "cell_type": "code",
   "execution_count": 5,
   "metadata": {
    "id": "NruSXITZkMo0"
   },
   "outputs": [],
   "source": [
    "import pandas as pd\n",
    "from sklearn.metrics import silhouette_score\n",
    "from sklearn.cluster import KMeans\n",
    "import warnings\n",
    "warnings.filterwarnings('ignore')\n",
    "import matplotlib.pyplot as plt\n",
    "import seaborn as sns\n",
    "import numpy as np\n",
    "\n",
    "pd.set_option('display.max_rows', None)"
   ]
  },
  {
   "cell_type": "markdown",
   "metadata": {},
   "source": [
    "## EDA"
   ]
  },
  {
   "cell_type": "code",
   "execution_count": 6,
   "metadata": {
    "id": "T9DCQizPkV-U"
   },
   "outputs": [],
   "source": [
    "df=pd.read_csv(\"News.csv\")"
   ]
  },
  {
   "cell_type": "code",
   "execution_count": 7,
   "metadata": {
    "colab": {
     "base_uri": "https://localhost:8080/",
     "height": 206
    },
    "id": "8fUv7VEtkWDW",
    "outputId": "30e04269-0bcd-4d10-9a04-5beab7b01cac"
   },
   "outputs": [
    {
     "data": {
      "application/vnd.google.colaboratory.intrinsic+json": {
       "type": "dataframe",
       "variable_name": "df"
      },
      "text/html": [
       "\n",
       "  <div id=\"df-108f04f6-4c8b-4e68-85f3-a1bd6d33b7ec\" class=\"colab-df-container\">\n",
       "    <div>\n",
       "<style scoped>\n",
       "    .dataframe tbody tr th:only-of-type {\n",
       "        vertical-align: middle;\n",
       "    }\n",
       "\n",
       "    .dataframe tbody tr th {\n",
       "        vertical-align: top;\n",
       "    }\n",
       "\n",
       "    .dataframe thead th {\n",
       "        text-align: right;\n",
       "    }\n",
       "</style>\n",
       "<table border=\"1\" class=\"dataframe\">\n",
       "  <thead>\n",
       "    <tr style=\"text-align: right;\">\n",
       "      <th></th>\n",
       "      <th>ID</th>\n",
       "      <th>News Category</th>\n",
       "      <th>Title</th>\n",
       "      <th>Summary</th>\n",
       "    </tr>\n",
       "  </thead>\n",
       "  <tbody>\n",
       "    <tr>\n",
       "      <th>0</th>\n",
       "      <td>N88753</td>\n",
       "      <td>lifestyle</td>\n",
       "      <td>The Brands Queen Elizabeth, Prince Charles, an...</td>\n",
       "      <td>Shop the notebooks, jackets, and more that the...</td>\n",
       "    </tr>\n",
       "    <tr>\n",
       "      <th>1</th>\n",
       "      <td>N45436</td>\n",
       "      <td>news</td>\n",
       "      <td>Walmart Slashes Prices on Last-Generation iPads</td>\n",
       "      <td>Apple's new iPad releases bring big deals on l...</td>\n",
       "    </tr>\n",
       "    <tr>\n",
       "      <th>2</th>\n",
       "      <td>N23144</td>\n",
       "      <td>health</td>\n",
       "      <td>50 Worst Habits For Belly Fat</td>\n",
       "      <td>These seemingly harmless habits are holding yo...</td>\n",
       "    </tr>\n",
       "    <tr>\n",
       "      <th>3</th>\n",
       "      <td>N86255</td>\n",
       "      <td>health</td>\n",
       "      <td>Dispose of unwanted prescription drugs during ...</td>\n",
       "      <td>NaN</td>\n",
       "    </tr>\n",
       "    <tr>\n",
       "      <th>4</th>\n",
       "      <td>N93187</td>\n",
       "      <td>news</td>\n",
       "      <td>The Cost of Trump's Aid Freeze in the Trenches...</td>\n",
       "      <td>Lt. Ivan Molchanets peeked over a parapet of s...</td>\n",
       "    </tr>\n",
       "  </tbody>\n",
       "</table>\n",
       "</div>\n",
       "    <div class=\"colab-df-buttons\">\n",
       "\n",
       "  <div class=\"colab-df-container\">\n",
       "    <button class=\"colab-df-convert\" onclick=\"convertToInteractive('df-108f04f6-4c8b-4e68-85f3-a1bd6d33b7ec')\"\n",
       "            title=\"Convert this dataframe to an interactive table.\"\n",
       "            style=\"display:none;\">\n",
       "\n",
       "  <svg xmlns=\"http://www.w3.org/2000/svg\" height=\"24px\" viewBox=\"0 -960 960 960\">\n",
       "    <path d=\"M120-120v-720h720v720H120Zm60-500h600v-160H180v160Zm220 220h160v-160H400v160Zm0 220h160v-160H400v160ZM180-400h160v-160H180v160Zm440 0h160v-160H620v160ZM180-180h160v-160H180v160Zm440 0h160v-160H620v160Z\"/>\n",
       "  </svg>\n",
       "    </button>\n",
       "\n",
       "  <style>\n",
       "    .colab-df-container {\n",
       "      display:flex;\n",
       "      gap: 12px;\n",
       "    }\n",
       "\n",
       "    .colab-df-convert {\n",
       "      background-color: #E8F0FE;\n",
       "      border: none;\n",
       "      border-radius: 50%;\n",
       "      cursor: pointer;\n",
       "      display: none;\n",
       "      fill: #1967D2;\n",
       "      height: 32px;\n",
       "      padding: 0 0 0 0;\n",
       "      width: 32px;\n",
       "    }\n",
       "\n",
       "    .colab-df-convert:hover {\n",
       "      background-color: #E2EBFA;\n",
       "      box-shadow: 0px 1px 2px rgba(60, 64, 67, 0.3), 0px 1px 3px 1px rgba(60, 64, 67, 0.15);\n",
       "      fill: #174EA6;\n",
       "    }\n",
       "\n",
       "    .colab-df-buttons div {\n",
       "      margin-bottom: 4px;\n",
       "    }\n",
       "\n",
       "    [theme=dark] .colab-df-convert {\n",
       "      background-color: #3B4455;\n",
       "      fill: #D2E3FC;\n",
       "    }\n",
       "\n",
       "    [theme=dark] .colab-df-convert:hover {\n",
       "      background-color: #434B5C;\n",
       "      box-shadow: 0px 1px 3px 1px rgba(0, 0, 0, 0.15);\n",
       "      filter: drop-shadow(0px 1px 2px rgba(0, 0, 0, 0.3));\n",
       "      fill: #FFFFFF;\n",
       "    }\n",
       "  </style>\n",
       "\n",
       "    <script>\n",
       "      const buttonEl =\n",
       "        document.querySelector('#df-108f04f6-4c8b-4e68-85f3-a1bd6d33b7ec button.colab-df-convert');\n",
       "      buttonEl.style.display =\n",
       "        google.colab.kernel.accessAllowed ? 'block' : 'none';\n",
       "\n",
       "      async function convertToInteractive(key) {\n",
       "        const element = document.querySelector('#df-108f04f6-4c8b-4e68-85f3-a1bd6d33b7ec');\n",
       "        const dataTable =\n",
       "          await google.colab.kernel.invokeFunction('convertToInteractive',\n",
       "                                                    [key], {});\n",
       "        if (!dataTable) return;\n",
       "\n",
       "        const docLinkHtml = 'Like what you see? Visit the ' +\n",
       "          '<a target=\"_blank\" href=https://colab.research.google.com/notebooks/data_table.ipynb>data table notebook</a>'\n",
       "          + ' to learn more about interactive tables.';\n",
       "        element.innerHTML = '';\n",
       "        dataTable['output_type'] = 'display_data';\n",
       "        await google.colab.output.renderOutput(dataTable, element);\n",
       "        const docLink = document.createElement('div');\n",
       "        docLink.innerHTML = docLinkHtml;\n",
       "        element.appendChild(docLink);\n",
       "      }\n",
       "    </script>\n",
       "  </div>\n",
       "\n",
       "\n",
       "<div id=\"df-144d4763-0d57-4fa7-8c11-e69ee66c03cb\">\n",
       "  <button class=\"colab-df-quickchart\" onclick=\"quickchart('df-144d4763-0d57-4fa7-8c11-e69ee66c03cb')\"\n",
       "            title=\"Suggest charts\"\n",
       "            style=\"display:none;\">\n",
       "\n",
       "<svg xmlns=\"http://www.w3.org/2000/svg\" height=\"24px\"viewBox=\"0 0 24 24\"\n",
       "     width=\"24px\">\n",
       "    <g>\n",
       "        <path d=\"M19 3H5c-1.1 0-2 .9-2 2v14c0 1.1.9 2 2 2h14c1.1 0 2-.9 2-2V5c0-1.1-.9-2-2-2zM9 17H7v-7h2v7zm4 0h-2V7h2v10zm4 0h-2v-4h2v4z\"/>\n",
       "    </g>\n",
       "</svg>\n",
       "  </button>\n",
       "\n",
       "<style>\n",
       "  .colab-df-quickchart {\n",
       "      --bg-color: #E8F0FE;\n",
       "      --fill-color: #1967D2;\n",
       "      --hover-bg-color: #E2EBFA;\n",
       "      --hover-fill-color: #174EA6;\n",
       "      --disabled-fill-color: #AAA;\n",
       "      --disabled-bg-color: #DDD;\n",
       "  }\n",
       "\n",
       "  [theme=dark] .colab-df-quickchart {\n",
       "      --bg-color: #3B4455;\n",
       "      --fill-color: #D2E3FC;\n",
       "      --hover-bg-color: #434B5C;\n",
       "      --hover-fill-color: #FFFFFF;\n",
       "      --disabled-bg-color: #3B4455;\n",
       "      --disabled-fill-color: #666;\n",
       "  }\n",
       "\n",
       "  .colab-df-quickchart {\n",
       "    background-color: var(--bg-color);\n",
       "    border: none;\n",
       "    border-radius: 50%;\n",
       "    cursor: pointer;\n",
       "    display: none;\n",
       "    fill: var(--fill-color);\n",
       "    height: 32px;\n",
       "    padding: 0;\n",
       "    width: 32px;\n",
       "  }\n",
       "\n",
       "  .colab-df-quickchart:hover {\n",
       "    background-color: var(--hover-bg-color);\n",
       "    box-shadow: 0 1px 2px rgba(60, 64, 67, 0.3), 0 1px 3px 1px rgba(60, 64, 67, 0.15);\n",
       "    fill: var(--button-hover-fill-color);\n",
       "  }\n",
       "\n",
       "  .colab-df-quickchart-complete:disabled,\n",
       "  .colab-df-quickchart-complete:disabled:hover {\n",
       "    background-color: var(--disabled-bg-color);\n",
       "    fill: var(--disabled-fill-color);\n",
       "    box-shadow: none;\n",
       "  }\n",
       "\n",
       "  .colab-df-spinner {\n",
       "    border: 2px solid var(--fill-color);\n",
       "    border-color: transparent;\n",
       "    border-bottom-color: var(--fill-color);\n",
       "    animation:\n",
       "      spin 1s steps(1) infinite;\n",
       "  }\n",
       "\n",
       "  @keyframes spin {\n",
       "    0% {\n",
       "      border-color: transparent;\n",
       "      border-bottom-color: var(--fill-color);\n",
       "      border-left-color: var(--fill-color);\n",
       "    }\n",
       "    20% {\n",
       "      border-color: transparent;\n",
       "      border-left-color: var(--fill-color);\n",
       "      border-top-color: var(--fill-color);\n",
       "    }\n",
       "    30% {\n",
       "      border-color: transparent;\n",
       "      border-left-color: var(--fill-color);\n",
       "      border-top-color: var(--fill-color);\n",
       "      border-right-color: var(--fill-color);\n",
       "    }\n",
       "    40% {\n",
       "      border-color: transparent;\n",
       "      border-right-color: var(--fill-color);\n",
       "      border-top-color: var(--fill-color);\n",
       "    }\n",
       "    60% {\n",
       "      border-color: transparent;\n",
       "      border-right-color: var(--fill-color);\n",
       "    }\n",
       "    80% {\n",
       "      border-color: transparent;\n",
       "      border-right-color: var(--fill-color);\n",
       "      border-bottom-color: var(--fill-color);\n",
       "    }\n",
       "    90% {\n",
       "      border-color: transparent;\n",
       "      border-bottom-color: var(--fill-color);\n",
       "    }\n",
       "  }\n",
       "</style>\n",
       "\n",
       "  <script>\n",
       "    async function quickchart(key) {\n",
       "      const quickchartButtonEl =\n",
       "        document.querySelector('#' + key + ' button');\n",
       "      quickchartButtonEl.disabled = true;  // To prevent multiple clicks.\n",
       "      quickchartButtonEl.classList.add('colab-df-spinner');\n",
       "      try {\n",
       "        const charts = await google.colab.kernel.invokeFunction(\n",
       "            'suggestCharts', [key], {});\n",
       "      } catch (error) {\n",
       "        console.error('Error during call to suggestCharts:', error);\n",
       "      }\n",
       "      quickchartButtonEl.classList.remove('colab-df-spinner');\n",
       "      quickchartButtonEl.classList.add('colab-df-quickchart-complete');\n",
       "    }\n",
       "    (() => {\n",
       "      let quickchartButtonEl =\n",
       "        document.querySelector('#df-144d4763-0d57-4fa7-8c11-e69ee66c03cb button');\n",
       "      quickchartButtonEl.style.display =\n",
       "        google.colab.kernel.accessAllowed ? 'block' : 'none';\n",
       "    })();\n",
       "  </script>\n",
       "</div>\n",
       "\n",
       "    </div>\n",
       "  </div>\n"
      ],
      "text/plain": [
       "       ID News Category                                              Title  \\\n",
       "0  N88753     lifestyle  The Brands Queen Elizabeth, Prince Charles, an...   \n",
       "1  N45436          news    Walmart Slashes Prices on Last-Generation iPads   \n",
       "2  N23144        health                      50 Worst Habits For Belly Fat   \n",
       "3  N86255        health  Dispose of unwanted prescription drugs during ...   \n",
       "4  N93187          news  The Cost of Trump's Aid Freeze in the Trenches...   \n",
       "\n",
       "                                             Summary  \n",
       "0  Shop the notebooks, jackets, and more that the...  \n",
       "1  Apple's new iPad releases bring big deals on l...  \n",
       "2  These seemingly harmless habits are holding yo...  \n",
       "3                                                NaN  \n",
       "4  Lt. Ivan Molchanets peeked over a parapet of s...  "
      ]
     },
     "execution_count": 7,
     "metadata": {},
     "output_type": "execute_result"
    }
   ],
   "source": [
    "df.head()"
   ]
  },
  {
   "cell_type": "code",
   "execution_count": 8,
   "metadata": {
    "colab": {
     "base_uri": "https://localhost:8080/"
    },
    "id": "VksuzCdBkWGL",
    "outputId": "472a783e-0801-4407-b89f-06c3d8ed709f"
   },
   "outputs": [
    {
     "name": "stdout",
     "output_type": "stream",
     "text": [
      "<class 'pandas.core.frame.DataFrame'>\n",
      "RangeIndex: 101527 entries, 0 to 101526\n",
      "Data columns (total 4 columns):\n",
      " #   Column         Non-Null Count   Dtype \n",
      "---  ------         --------------   ----- \n",
      " 0   ID             101527 non-null  object\n",
      " 1   News Category  101527 non-null  object\n",
      " 2   Title          101527 non-null  object\n",
      " 3   Summary        96112 non-null   object\n",
      "dtypes: object(4)\n",
      "memory usage: 3.1+ MB\n"
     ]
    }
   ],
   "source": [
    "df.info()"
   ]
  },
  {
   "cell_type": "code",
   "execution_count": 9,
   "metadata": {
    "colab": {
     "base_uri": "https://localhost:8080/",
     "height": 209
    },
    "id": "Zc-5Mf9CkWI1",
    "outputId": "2c2923c7-f291-4f16-d37a-4aca6175d574"
   },
   "outputs": [
    {
     "data": {
      "text/html": [
       "<div>\n",
       "<style scoped>\n",
       "    .dataframe tbody tr th:only-of-type {\n",
       "        vertical-align: middle;\n",
       "    }\n",
       "\n",
       "    .dataframe tbody tr th {\n",
       "        vertical-align: top;\n",
       "    }\n",
       "\n",
       "    .dataframe thead th {\n",
       "        text-align: right;\n",
       "    }\n",
       "</style>\n",
       "<table border=\"1\" class=\"dataframe\">\n",
       "  <thead>\n",
       "    <tr style=\"text-align: right;\">\n",
       "      <th></th>\n",
       "      <th>0</th>\n",
       "    </tr>\n",
       "  </thead>\n",
       "  <tbody>\n",
       "    <tr>\n",
       "      <th>ID</th>\n",
       "      <td>0</td>\n",
       "    </tr>\n",
       "    <tr>\n",
       "      <th>News Category</th>\n",
       "      <td>0</td>\n",
       "    </tr>\n",
       "    <tr>\n",
       "      <th>Title</th>\n",
       "      <td>0</td>\n",
       "    </tr>\n",
       "    <tr>\n",
       "      <th>Summary</th>\n",
       "      <td>5415</td>\n",
       "    </tr>\n",
       "  </tbody>\n",
       "</table>\n",
       "</div><br><label><b>dtype:</b> int64</label>"
      ],
      "text/plain": [
       "ID                  0\n",
       "News Category       0\n",
       "Title               0\n",
       "Summary          5415\n",
       "dtype: int64"
      ]
     },
     "execution_count": 9,
     "metadata": {},
     "output_type": "execute_result"
    }
   ],
   "source": [
    "df.isnull().sum()"
   ]
  },
  {
   "cell_type": "markdown",
   "metadata": {},
   "source": [
    "## DATA VISUALIZATION"
   ]
  },
  {
   "cell_type": "code",
   "execution_count": 10,
   "metadata": {
    "colab": {
     "base_uri": "https://localhost:8080/",
     "height": 535
    },
    "id": "HgmkI5kjkWLX",
    "outputId": "d13261cc-cb30-4c63-e65e-34bd4c1be4b0"
   },
   "outputs": [
    {
     "data": {
      "image/png": "[encoded data removed]",
      "text/plain": [
       "<Figure size 640x480 with 1 Axes>"
      ]
     },
     "metadata": {},
     "output_type": "display_data"
    }
   ],
   "source": [
    "sns.countplot(x=df['News Category'], hue=df['News Category'], palette='Spectral')\n",
    "plt.xticks(rotation=90);"
   ]
  },
  {
   "cell_type": "code",
   "execution_count": 11,
   "metadata": {
    "id": "o3pqdA8BkWP9"
   },
   "outputs": [],
   "source": [
    "df['ID'] = df['ID'].str.replace('N', '', regex=False)"
   ]
  },
  {
   "cell_type": "code",
   "execution_count": 12,
   "metadata": {
    "id": "kfv4UQZ_kq4t"
   },
   "outputs": [],
   "source": [
    "df['ID'] = df['ID'].astype(int)"
   ]
  },
  {
   "cell_type": "code",
   "execution_count": 13,
   "metadata": {
    "id": "UWxRYr-Lkq7X"
   },
   "outputs": [],
   "source": [
    "df_cln = df.dropna(subset=['Summary'])  # None değerleri kaldırır\n",
    "df_cln = df_cln[df_cln['Summary'] != '']  # Boş string'leri kaldırır"
   ]
  },
  {
   "cell_type": "code",
   "execution_count": 14,
   "metadata": {
    "colab": {
     "base_uri": "https://localhost:8080/",
     "height": 209
    },
    "id": "7lnxjLh3kq9-",
    "outputId": "9128f639-baee-41ad-d8b5-ab09dfe45868"
   },
   "outputs": [
    {
     "data": {
      "text/html": [
       "<div>\n",
       "<style scoped>\n",
       "    .dataframe tbody tr th:only-of-type {\n",
       "        vertical-align: middle;\n",
       "    }\n",
       "\n",
       "    .dataframe tbody tr th {\n",
       "        vertical-align: top;\n",
       "    }\n",
       "\n",
       "    .dataframe thead th {\n",
       "        text-align: right;\n",
       "    }\n",
       "</style>\n",
       "<table border=\"1\" class=\"dataframe\">\n",
       "  <thead>\n",
       "    <tr style=\"text-align: right;\">\n",
       "      <th></th>\n",
       "      <th>0</th>\n",
       "    </tr>\n",
       "  </thead>\n",
       "  <tbody>\n",
       "    <tr>\n",
       "      <th>ID</th>\n",
       "      <td>0</td>\n",
       "    </tr>\n",
       "    <tr>\n",
       "      <th>News Category</th>\n",
       "      <td>0</td>\n",
       "    </tr>\n",
       "    <tr>\n",
       "      <th>Title</th>\n",
       "      <td>0</td>\n",
       "    </tr>\n",
       "    <tr>\n",
       "      <th>Summary</th>\n",
       "      <td>0</td>\n",
       "    </tr>\n",
       "  </tbody>\n",
       "</table>\n",
       "</div><br><label><b>dtype:</b> int64</label>"
      ],
      "text/plain": [
       "ID               0\n",
       "News Category    0\n",
       "Title            0\n",
       "Summary          0\n",
       "dtype: int64"
      ]
     },
     "execution_count": 14,
     "metadata": {},
     "output_type": "execute_result"
    }
   ],
   "source": [
    "df_cln.isnull().sum()"
   ]
  },
  {
   "cell_type": "markdown",
   "metadata": {},
   "source": [
    "## Tavsiye Sistemi Modellemesi"
   ]
  },
  {
   "cell_type": "markdown",
   "metadata": {},
   "source": [
    "* Bu kodlardan sonrası coolab pro'da çalıştı sadece, diğer şekilde oturum çöktü, sadece ilk 1000 başlıkla çalış"
   ]
  },
  {
   "cell_type": "code",
   "execution_count": 15,
   "metadata": {
    "colab": {
     "base_uri": "https://localhost:8080/"
    },
    "collapsed": true,
    "id": "u3NxrFbhkrDX",
    "jupyter": {
     "outputs_hidden": true
    },
    "outputId": "105dc6bb-038d-457e-c834-37baec980a2b"
   },
   "outputs": [
    {
     "name": "stdout",
     "output_type": "stream",
     "text": [
      "TF-IDF Matrisi:\n",
      "   (0, 3310)\t0.34484515580576913\n",
      "  (0, 2486)\t0.34484515580576913\n",
      "  (0, 655)\t0.34484515580576913\n",
      "  (0, 2608)\t0.6021083815046314\n",
      "  (0, 1140)\t0.32546734507178704\n",
      "  (0, 2666)\t0.2785919833029414\n",
      "  (0, 481)\t0.3117185695543553\n",
      "  (1, 1746)\t0.47140400122149345\n",
      "  (1, 1885)\t0.47140400122149345\n",
      "  (1, 2603)\t0.426119893143371\n",
      "  (1, 3095)\t0.47140400122149345\n",
      "  (1, 3656)\t0.3895595455955104\n",
      "  (2, 1256)\t0.4657435365882358\n",
      "  (2, 385)\t0.4822417805966206\n",
      "  (2, 1516)\t0.4657435365882358\n",
      "  (2, 3761)\t0.43099355383294763\n",
      "  (2, 98)\t0.3845170189393599\n",
      "  (3, 3661)\t0.36038989104216523\n",
      "  (3, 3549)\t0.3986888182662111\n",
      "  (3, 3495)\t0.3986888182662111\n",
      "  (3, 1361)\t0.3986888182662111\n",
      "  (3, 181)\t0.3986888182662111\n",
      "  (3, 3518)\t0.30449522569150395\n",
      "  (3, 826)\t0.3762853820222957\n",
      "  (4, 1560)\t0.3905613894033539\n",
      "  :\t:\n",
      "  (996, 2191)\t0.3205994653884726\n",
      "  (997, 2877)\t0.38897129061041447\n",
      "  (997, 2221)\t0.38897129061041447\n",
      "  (997, 2059)\t0.38897129061041447\n",
      "  (997, 1122)\t0.38897129061041447\n",
      "  (997, 369)\t0.38897129061041447\n",
      "  (997, 3425)\t0.3671139093379725\n",
      "  (997, 2609)\t0.329748469253359\n",
      "  (998, 567)\t0.3388784033329162\n",
      "  (998, 2140)\t0.3388784033329162\n",
      "  (998, 2574)\t0.3388784033329162\n",
      "  (998, 2054)\t0.3388784033329162\n",
      "  (998, 1790)\t0.3388784033329162\n",
      "  (998, 2467)\t0.3388784033329162\n",
      "  (998, 1123)\t0.3388784033329162\n",
      "  (998, 2789)\t0.31983588105570626\n",
      "  (998, 579)\t0.30632499648421413\n",
      "  (999, 3202)\t0.3930426313025394\n",
      "  (999, 945)\t0.3930426313025394\n",
      "  (999, 3578)\t0.3930426313025394\n",
      "  (999, 1235)\t0.35528608925135946\n",
      "  (999, 1240)\t0.3431311975992885\n",
      "  (999, 2354)\t0.3709564700456977\n",
      "  (999, 3201)\t0.27335722468649604\n",
      "  (999, 1392)\t0.2832884942912668\n",
      "Kosinüs Benzerliği:\n",
      "   (0, 818)\t0.09292897542014474\n",
      "  (0, 725)\t0.12766307334502258\n",
      "  (0, 751)\t0.09227213349864971\n",
      "  (0, 529)\t0.09355847670032462\n",
      "  (0, 202)\t0.09212311602357633\n",
      "  (0, 196)\t0.10394378997785465\n",
      "  (0, 71)\t0.08758803414497149\n",
      "  (0, 338)\t0.1981397931312756\n",
      "  (0, 757)\t0.22408347866925535\n",
      "  (0, 358)\t0.2066532231197728\n",
      "  (0, 76)\t0.2830962364996028\n",
      "  (0, 0)\t1.0000000000000002\n",
      "  (1, 940)\t0.15425855574528793\n",
      "  (1, 677)\t0.1622378768189326\n",
      "  (1, 548)\t0.15970049196191913\n",
      "  (1, 316)\t0.14816165221021868\n",
      "  (1, 188)\t0.1371317404795125\n",
      "  (1, 763)\t0.15187162528461196\n",
      "  (1, 532)\t0.13521513158838952\n",
      "  (1, 1)\t1.0000000000000002\n",
      "  (2, 867)\t0.11182893650263885\n",
      "  (2, 762)\t0.127710520709031\n",
      "  (2, 632)\t0.10654820550287096\n",
      "  (2, 596)\t0.1314081824741486\n",
      "  (2, 558)\t0.1116740471674443\n",
      "  :\t:\n",
      "  (999, 48)\t0.09911642459654954\n",
      "  (999, 20)\t0.08134507209589491\n",
      "  (999, 984)\t0.14037860800905294\n",
      "  (999, 968)\t0.06751786681011436\n",
      "  (999, 967)\t0.08257533417450705\n",
      "  (999, 946)\t0.11155488966659857\n",
      "  (999, 746)\t0.07024477430974303\n",
      "  (999, 704)\t0.12334032720172401\n",
      "  (999, 700)\t0.06455494192526992\n",
      "  (999, 672)\t0.0739671953936285\n",
      "  (999, 595)\t0.11520749692862492\n",
      "  (999, 576)\t0.06536627665607399\n",
      "  (999, 493)\t0.11337768180019439\n",
      "  (999, 398)\t0.08134891945547389\n",
      "  (999, 240)\t0.1347575006713898\n",
      "  (999, 171)\t0.09069415662051614\n",
      "  (999, 124)\t0.11565052611589184\n",
      "  (999, 29)\t0.08433133950946706\n",
      "  (999, 103)\t0.11370018049120836\n",
      "  (999, 589)\t0.14115357642184018\n",
      "  (999, 365)\t0.09625365206371943\n",
      "  (999, 140)\t0.1323145673223698\n",
      "  (999, 659)\t0.13116620196835174\n",
      "  (999, 579)\t0.11582173284854001\n",
      "  (999, 999)\t1.0\n"
     ]
    },
    {
     "data": {
      "text/plain": [
       "218"
      ]
     },
     "execution_count": 15,
     "metadata": {},
     "output_type": "execute_result"
    }
   ],
   "source": [
    "# Makalelerin başlıklarını listeye dönüştürme ve örnekleme\n",
    "article_titles = df_cln[\"Title\"].tolist()[:1000]  # İlk 1000 başlık\n",
    "\n",
    "# Metinleri temizleme\n",
    "cleaned_titles = [nfx.remove_stopwords(title) for title in article_titles]\n",
    "cleaned_titles = [nfx.remove_special_characters(title) for title in cleaned_titles]\n",
    "\n",
    "# TF-IDF vektörleştiricisini oluşturma (max_features ile)\n",
    "tfidf = TfidfVectorizer(stop_words=\"english\", max_features=5000)\n",
    "\n",
    "# TF-IDF matrisini oluşturma\n",
    "tfidf_matrix = tfidf.fit_transform(cleaned_titles)\n",
    "\n",
    "# Kosinüs benzerliğini hesaplama (sparse output)\n",
    "similarity = cosine_similarity(tfidf_matrix, dense_output=False)\n",
    "\n",
    "# Sonuçları yazdırma\n",
    "print(\"TF-IDF Matrisi:\\n\", tfidf_matrix)  # Sparse format\n",
    "print(\"Kosinüs Benzerliği:\\n\", similarity)\n",
    "\n",
    "# Belleği temizleme\n",
    "del tfidf_matrix\n",
    "gc.collect()"
   ]
  },
  {
   "cell_type": "code",
   "execution_count": 17,
   "metadata": {
    "colab": {
     "base_uri": "https://localhost:8080/"
    },
    "id": "KwLId9O5u12-",
    "outputId": "f22accd1-f943-4fa4-e1ed-5e9e831c3e29"
   },
   "outputs": [
    {
     "name": "stdout",
     "output_type": "stream",
     "text": [
      "Requirement already satisfied: neattext in /usr/local/lib/python3.10/dist-packages (0.1.3)\n"
     ]
    }
   ],
   "source": [
    "#!pip install neattext"
   ]
  },
  {
   "cell_type": "markdown",
   "metadata": {},
   "source": [
    "* Haber başlıklarından \"50 Worst Habits For Belly Fat\" başlıklı yazıyı seçelim bakalım bize hangi haberi tavsiye edecek."
   ]
  },
  {
   "cell_type": "code",
   "execution_count": 20,
   "metadata": {
    "colab": {
     "base_uri": "https://localhost:8080/"
    },
    "id": "X7F9Tk8WuKBf",
    "outputId": "15e50ed4-d790-486e-cec3-3ac7585ef16f"
   },
   "outputs": [
    {
     "name": "stdout",
     "output_type": "stream",
     "text": [
      "Tavsiye Edilen Başlıklar:\n",
      "      Similarity                                              Title\n",
      "289    0.371099  Those Grueling Workouts May Not Help You Lose ...\n",
      "573    0.344979  If You Have a Slow Metabolism, Here Are 5 Doct...\n",
      "234    0.318481  50 best (and worst) places to retire if you ha...\n",
      "307    0.193980             15 Everyday Habits of Great Dog Owners\n",
      "840    0.193440               30 Healthy Habits Fit People Live By\n"
     ]
    },
    {
     "data": {
      "text/plain": [
       "5441"
      ]
     },
     "execution_count": 20,
     "metadata": {},
     "output_type": "execute_result"
    }
   ],
   "source": [
    "# Makalelerin başlıklarını listeye dönüştürme ve örnekleme\n",
    "article_titles = df_cln[\"Title\"].tolist()[:1000]  # İlk 1000 başlık\n",
    "\n",
    "# Metinleri temizleme\n",
    "cleaned_titles = [nfx.remove_stopwords(title) for title in article_titles]\n",
    "cleaned_titles = [nfx.remove_special_characters(title) for title in cleaned_titles]\n",
    "\n",
    "# TF-IDF vektörleştiricisini oluşturma (max_features ile)\n",
    "tfidf = TfidfVectorizer(stop_words=\"english\", max_features=5000)\n",
    "\n",
    "# TF-IDF matrisini oluşturma\n",
    "tfidf_matrix = tfidf.fit_transform(cleaned_titles)\n",
    "\n",
    "# Belirli bir başlık\n",
    "target_title = \"50 Worst Habits For Belly Fat\"\n",
    "\n",
    "# Başlığı temizleme\n",
    "cleaned_target_title = nfx.remove_stopwords(target_title)\n",
    "cleaned_target_title = nfx.remove_special_characters(cleaned_target_title)\n",
    "\n",
    "# TF-IDF vektörünü oluşturma\n",
    "target_vector = tfidf.transform([cleaned_target_title])\n",
    "\n",
    "# Kosinüs benzerliğini hesaplama\n",
    "similarity_scores = cosine_similarity(target_vector, tfidf_matrix)\n",
    "\n",
    "# Benzerlik skorlarını ve başlıkları birleştirme\n",
    "similarity_df = pd.DataFrame(similarity_scores.T, columns=[\"Similarity\"])\n",
    "similarity_df[\"Title\"] = article_titles  # Burada sadece kullanılan başlıkları ekliyoruz\n",
    "\n",
    "# En benzer başlıkları sıralama (en yüksek benzerlikten en düşük benzerliğe)\n",
    "recommended_titles = similarity_df.sort_values(by=\"Similarity\", ascending=False)\n",
    "\n",
    "# İlk 5 tavsiye edilen başlığı yazdırma (kendisi hariç)\n",
    "print(\"Tavsiye Edilen Başlıklar:\\n\", recommended_titles.iloc[1:6])\n",
    "\n",
    "# Belleği temizleme\n",
    "del tfidf_matrix\n",
    "gc.collect()"
   ]
  },
  {
   "cell_type": "markdown",
   "metadata": {
    "id": "jrrCW7H3vQ5S"
   },
   "source": [
    "* Similarity, benzerlik skoru demek\n",
    "Bu sütun, \"50 Worst Habits For Belly Fat\" başlığı ile diğer başlıklar arasındaki benzerlik derecesini gösterir. Değerler 0 ile 1 arasında değişir.\n",
    "0: İki başlık arasında hiçbir benzerlik yok.\n",
    "1: İki başlık tamamen aynı.\n",
    "Mesela, ilk başlık (0.371099) ile \"50 Worst Habits For Belly Fat\" arasında %37.1 oranında bir benzerlik vardır. Bu, başlıkların içeriği veya kelime kullanımı açısından belli bir ortaklığa sahip olduğunu gösterir.\n",
    "Title sütunu, benzerlik skoru en yüksek olan başlıkları içerir. Yani, hedef başlığa en yakın olan başlıkları sıralar.\n",
    "Mesela, \"Those Grueling Workouts May Not Help You Lose ...\" başlığı, en yüksek benzerlik skoruna sahip 0.371099, yani, hedef başlıkla benzer kelimeler veya içerik barındırdığını gösterir.\n",
    "\n",
    "* Yüksek Benzerlik Skoru: Başlıklar arasındaki ilişkiyi temsil eder.\n",
    "  \n",
    "* Başlıklar: Kullanıcıya tavsiye içeriklerdir."
   ]
  },
  {
   "cell_type": "code",
   "execution_count": null,
   "metadata": {},
   "outputs": [],
   "source": []
  }
 ],
 "metadata": {
  "accelerator": "GPU",
  "colab": {
   "gpuType": "T4",
   "machine_shape": "hm",
   "provenance": []
  },
  "kernelspec": {
   "display_name": "Python 3 (ipykernel)",
   "language": "python",
   "name": "python3"
  },
  "language_info": {
   "codemirror_mode": {
    "name": "ipython",
    "version": 3
   },
   "file_extension": ".py",
   "mimetype": "text/x-python",
   "name": "python",
   "nbconvert_exporter": "python",
   "pygments_lexer": "ipython3",
   "version": "3.12.4"
  }
 },
 "nbformat": 4,
 "nbformat_minor": 4
}
